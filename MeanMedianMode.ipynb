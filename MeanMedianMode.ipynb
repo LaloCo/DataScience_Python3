{
 "cells": [
  {
   "cell_type": "markdown",
   "metadata": {
    "deletable": true,
    "editable": true
   },
   "source": [
    "# Mean, Median, Mode, and introducing NumPy"
   ]
  },
  {
   "cell_type": "markdown",
   "metadata": {
    "deletable": true,
    "editable": true
   },
   "source": [
    "## Mean vs. Median"
   ]
  },
  {
   "cell_type": "markdown",
   "metadata": {
    "deletable": true,
    "editable": true
   },
   "source": [
    "Let's create some fake income data, centered around 27,000 with a normal distribution and standard deviation of 15,000, with 10,000 data points. (We'll discuss those terms more later, if you're not familiar with them.)\n",
    "\n",
    "Then, compute the mean (average) - it should be close to 27,000:"
   ]
  },
  {
   "cell_type": "code",
   "execution_count": 2,
   "metadata": {
    "collapsed": false,
    "deletable": true,
    "editable": true
   },
   "outputs": [
    {
     "data": {
      "text/plain": [
       "26744.997309868962"
      ]
     },
     "execution_count": 2,
     "metadata": {},
     "output_type": "execute_result"
    }
   ],
   "source": [
    "import numpy as np\n",
    "\n",
    "incomes = np.random.normal(27000, 15000, 10000)\n",
    "np.mean(incomes)"
   ]
  },
  {
   "cell_type": "markdown",
   "metadata": {
    "deletable": true,
    "editable": true
   },
   "source": [
    "We can segment the income data into 50 buckets, and plot it as a histogram:"
   ]
  },
  {
   "cell_type": "code",
   "execution_count": 3,
   "metadata": {
    "collapsed": false,
    "deletable": true,
    "editable": true
   },
   "outputs": [
    {
     "data": {
      "image/png": "[encoded data removed]",
      "text/plain": [
       "<matplotlib.figure.Figure at 0x11b07deb8>"
      ]
     },
     "metadata": {},
     "output_type": "display_data"
    }
   ],
   "source": [
    "%matplotlib inline\n",
    "import matplotlib.pyplot as plt\n",
    "plt.hist(incomes, 50)\n",
    "plt.show()"
   ]
  },
  {
   "cell_type": "markdown",
   "metadata": {
    "deletable": true,
    "editable": true
   },
   "source": [
    "Now compute the median - since we have a nice, even distribution it too should be close to 27,000:"
   ]
  },
  {
   "cell_type": "code",
   "execution_count": 4,
   "metadata": {
    "collapsed": false,
    "deletable": true,
    "editable": true
   },
   "outputs": [
    {
     "data": {
      "text/plain": [
       "27005.735288164935"
      ]
     },
     "execution_count": 4,
     "metadata": {},
     "output_type": "execute_result"
    }
   ],
   "source": [
    "np.median(incomes)"
   ]
  },
  {
   "cell_type": "markdown",
   "metadata": {
    "deletable": true,
    "editable": true
   },
   "source": [
    "Now we'll add Donald Trump into the mix. Darn income inequality!"
   ]
  },
  {
   "cell_type": "code",
   "execution_count": 5,
   "metadata": {
    "collapsed": false,
    "deletable": true,
    "editable": true
   },
   "outputs": [],
   "source": [
    "incomes = np.append(incomes, [1000000000])"
   ]
  },
  {
   "cell_type": "markdown",
   "metadata": {
    "deletable": true,
    "editable": true
   },
   "source": [
    "The median won't change much, but the mean does:"
   ]
  },
  {
   "cell_type": "code",
   "execution_count": 6,
   "metadata": {
    "collapsed": false,
    "deletable": true,
    "editable": true
   },
   "outputs": [
    {
     "data": {
      "text/plain": [
       "27006.055212389514"
      ]
     },
     "execution_count": 6,
     "metadata": {},
     "output_type": "execute_result"
    }
   ],
   "source": [
    "np.median(incomes)"
   ]
  },
  {
   "cell_type": "code",
   "execution_count": 7,
   "metadata": {
    "collapsed": false,
    "deletable": true,
    "editable": true
   },
   "outputs": [
    {
     "data": {
      "text/plain": [
       "126732.32407746121"
      ]
     },
     "execution_count": 7,
     "metadata": {},
     "output_type": "execute_result"
    }
   ],
   "source": [
    "np.mean(incomes)"
   ]
  },
  {
   "cell_type": "markdown",
   "metadata": {
    "deletable": true,
    "editable": true
   },
   "source": [
    "## Mode"
   ]
  },
  {
   "cell_type": "markdown",
   "metadata": {
    "deletable": true,
    "editable": true
   },
   "source": [
    "Next, let's generate some fake age data for 500 people:"
   ]
  },
  {
   "cell_type": "code",
   "execution_count": 8,
   "metadata": {
    "collapsed": false,
    "deletable": true,
    "editable": true
   },
   "outputs": [
    {
     "data": {
      "text/plain": [
       "array([29, 50, 50, 27, 53, 32, 69, 80, 22, 78, 22, 88, 76, 58, 72, 52, 70,\n",
       "       23, 57, 21, 77, 30, 19, 74, 43, 43, 30, 46, 76, 70, 74, 54, 73, 38,\n",
       "       34, 85, 69, 81, 21, 58, 20, 38, 80, 33, 69, 58, 56, 19, 74, 62, 40,\n",
       "       68, 59, 89, 84, 56, 40, 66, 73, 21, 73, 41, 42, 28, 83, 61, 74, 24,\n",
       "       60, 83, 36, 23, 88, 88, 38, 23, 68, 71, 73, 83, 46, 41, 46, 62, 38,\n",
       "       47, 60, 39, 65, 59, 50, 36, 23, 77, 27, 78, 38, 24, 23, 82, 85, 20,\n",
       "       25, 81, 20, 23, 25, 21, 23, 39, 70, 40, 22, 85, 23, 50, 64, 42, 54,\n",
       "       88, 71, 34, 34, 35, 37, 44, 63, 45, 20, 67, 45, 22, 45, 44, 76, 54,\n",
       "       81, 19, 50, 25, 82, 20, 86, 26, 21, 20, 31, 53, 48, 24, 77, 21, 36,\n",
       "       27, 71, 27, 65, 67, 67, 57, 83, 36, 48, 51, 26, 47, 72, 49, 82, 32,\n",
       "       60, 29, 84, 20, 38, 67, 71, 30, 59, 25, 70, 79, 66, 32, 89, 76, 55,\n",
       "       32, 59, 38, 33, 33, 49, 66, 83, 64, 54, 50, 47, 22, 20, 40, 24, 72,\n",
       "       30, 71, 66, 72, 83, 69, 89, 42, 29, 71, 67, 37, 56, 22, 51, 56, 26,\n",
       "       25, 58, 66, 85, 26, 23, 73, 56, 67, 42, 64, 27, 26, 43, 86, 26, 37,\n",
       "       85, 21, 85, 36, 65, 64, 40, 47, 31, 37, 21, 39, 19, 21, 84, 72, 85,\n",
       "       46, 63, 50, 19, 37, 83, 47, 74, 59, 18, 42, 79, 53, 68, 23, 81, 28,\n",
       "       50, 31, 80, 19, 26, 78, 35, 76, 89, 21, 57, 44, 33, 59, 38, 26, 57,\n",
       "       83, 86, 61, 48, 19, 66, 61, 51, 49, 58, 75, 78, 41, 40, 32, 75, 26,\n",
       "       85, 58, 59, 69, 45, 46, 21, 83, 48, 74, 67, 20, 34, 57, 53, 46, 73,\n",
       "       81, 57, 50, 65, 74, 61, 56, 80, 70, 78, 30, 53, 35, 47, 64, 45, 89,\n",
       "       38, 47, 39, 78, 41, 79, 59, 29, 52, 51, 79, 53, 27, 23, 18, 71, 36,\n",
       "       38, 40, 29, 19, 51, 66, 36, 42, 26, 53, 73, 32, 36, 72, 70, 48, 69,\n",
       "       55, 72, 24, 32, 60, 45, 89, 55, 71, 59, 75, 18, 50, 70, 52, 64, 27,\n",
       "       83, 50, 82, 47, 46, 28, 50, 63, 75, 49, 55, 68, 34, 23, 43, 71, 72,\n",
       "       81, 38, 28, 19, 55, 61, 62, 69, 85, 51, 79, 60, 83, 58, 22, 73, 24,\n",
       "       73, 61, 64, 43, 60, 19, 84, 62, 46, 20, 18, 78, 85, 48, 54, 19, 78,\n",
       "       22, 38, 61, 36, 81, 24, 52, 24, 89, 75, 85, 31, 73, 21, 30, 39, 19,\n",
       "       28, 86, 74, 69, 35, 72, 84, 38, 21, 81, 31, 69, 43, 59, 54, 64, 66,\n",
       "       64, 48, 85, 52, 50, 72, 37, 66, 64, 43, 47, 71, 42, 30, 26, 80, 81,\n",
       "       75, 28, 19, 78, 22, 72, 29])"
      ]
     },
     "execution_count": 8,
     "metadata": {},
     "output_type": "execute_result"
    }
   ],
   "source": [
    "ages = np.random.randint(18, high=90, size=500)\n",
    "ages"
   ]
  },
  {
   "cell_type": "code",
   "execution_count": 9,
   "metadata": {
    "collapsed": false,
    "deletable": true,
    "editable": true
   },
   "outputs": [
    {
     "data": {
      "text/plain": [
       "ModeResult(mode=array([19]), count=array([13]))"
      ]
     },
     "execution_count": 9,
     "metadata": {},
     "output_type": "execute_result"
    }
   ],
   "source": [
    "from scipy import stats\n",
    "stats.mode(ages)"
   ]
  },
  {
   "cell_type": "code",
   "execution_count": null,
   "metadata": {
    "collapsed": false,
    "deletable": true,
    "editable": true
   },
   "outputs": [],
   "source": []
  }
 ],
 "metadata": {
  "kernelspec": {
   "display_name": "Python 3",
   "language": "python",
   "name": "python3"
  },
  "language_info": {
   "codemirror_mode": {
    "name": "ipython",
    "version": 3
   },
   "file_extension": ".py",
   "mimetype": "text/x-python",
   "name": "python",
   "nbconvert_exporter": "python",
   "pygments_lexer": "ipython3",
   "version": "3.5.2"
  }
 },
 "nbformat": 4,
 "nbformat_minor": 0
}
