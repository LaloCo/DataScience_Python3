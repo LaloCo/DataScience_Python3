{
 "cells": [
  {
   "cell_type": "markdown",
   "metadata": {
    "deletable": true,
    "editable": true
   },
   "source": [
    "# Naive Bayes (the easy way)"
   ]
  },
  {
   "cell_type": "markdown",
   "metadata": {
    "deletable": true,
    "editable": true
   },
   "source": [
    "We'll cheat by using sklearn.naive_bayes to train a spam classifier! Most of the code is just loading our training data into a pandas DataFrame that we can play with:"
   ]
  },
  {
   "cell_type": "code",
   "execution_count": 30,
   "metadata": {
    "collapsed": false,
    "deletable": true,
    "editable": true
   },
   "outputs": [],
   "source": [
    "import os\n",
    "import io\n",
    "import numpy\n",
    "from pandas import DataFrame\n",
    "from sklearn.feature_extraction.text import CountVectorizer\n",
    "from sklearn.naive_bayes import MultinomialNB\n",
    "from sklearn.utils import shuffle\n",
    "\n",
    "def readFiles(path):\n",
    "    for root, dirnames, filenames in os.walk(path):\n",
    "        for filename in filenames:\n",
    "            path = os.path.join(root, filename)\n",
    "\n",
    "            inBody = False\n",
    "            lines = []\n",
    "            f = io.open(path, 'r', encoding='latin1')\n",
    "            for line in f:\n",
    "                if inBody:\n",
    "                    lines.append(line)\n",
    "                elif line == '\\n':\n",
    "                    inBody = True\n",
    "            f.close()\n",
    "            message = '\\n'.join(lines)\n",
    "            yield path, message\n",
    "\n",
    "\n",
    "def dataFrameFromDirectory(path, classification):\n",
    "    rows = []\n",
    "    index = []\n",
    "    for filename, message in readFiles(path):\n",
    "        rows.append({'message': message, 'class': classification})\n",
    "        index.append(filename)\n",
    "\n",
    "    return DataFrame(rows, index=index)\n",
    "\n",
    "data = DataFrame({'message': [], 'class': []})\n",
    "\n",
    "data = data.append(dataFrameFromDirectory('emails/spam', 'spam'))\n",
    "data = data.append(dataFrameFromDirectory('emails/ham', 'ham'))\n",
    "\n",
    "\n",
    "data = shuffle(data)"
   ]
  },
  {
   "cell_type": "markdown",
   "metadata": {
    "deletable": true,
    "editable": true
   },
   "source": [
    "Let's have a look at that DataFrame:"
   ]
  },
  {
   "cell_type": "code",
   "execution_count": 31,
   "metadata": {
    "collapsed": false
   },
   "outputs": [
    {
     "data": {
      "text/plain": [
       "<bound method DataFrame.count of                                                    class  \\\n",
       "emails/ham/02022.5ecf975278edd8b82be5e9afaaf5f4ff    ham   \n",
       "emails/ham/00629.370fec99ddca8da57ef5cb0bf30375e5    ham   \n",
       "emails/ham/01419.97da4f8a986b55cbe1f81bb22836ac58    ham   \n",
       "emails/spam/00082.0341a767bbaca01fd89b6236ef681257  spam   \n",
       "emails/ham/00668.c788422df192a179d3a6ddbcb8b8b612    ham   \n",
       "emails/ham/00005.bf27cdeaf0b8c4647ecd61b1d09da613    ham   \n",
       "emails/spam/00161.ae33257753c9bdaaadc9221347868496  spam   \n",
       "emails/ham/02433.9cfb47708291604f2c38393706175160    ham   \n",
       "emails/spam/00469.ee3b2f31459cc2ec43ae7cae00d40cf6  spam   \n",
       "emails/ham/02298.501991b65594ba4937fc54a5c23ee1c3    ham   \n",
       "emails/spam/00466.ecb11c98ec4511b5422b20476d935bd1  spam   \n",
       "emails/ham/01271.519b987eddc0633ac3a5908c33a1fa2c    ham   \n",
       "emails/ham/00388.18e2a6069150c2c9139f760fda7668ac    ham   \n",
       "emails/ham/01626.daf72a49b735dc3319a809ec520f2283    ham   \n",
       "emails/ham/00674.6dcadfb64e1a333f826a1c7b5c722f5f    ham   \n",
       "emails/ham/01693.5f6c04f93ace9da3b5f9e0906ba608c2    ham   \n",
       "emails/ham/01935.ee107676efc24029cdbae10a0d2fdcb9    ham   \n",
       "emails/ham/01745.46a467858b1369e9513a8a369a67a70b    ham   \n",
       "emails/spam/00385.51089b24dee5a89d38ee1b505b470c68  spam   \n",
       "emails/ham/02049.2ce8f1e1c26f0c95f2e72853dbf11100    ham   \n",
       "emails/ham/01446.2bc1d074ad6e9bc83adf861ccbf0c498    ham   \n",
       "emails/ham/01220.f57815121767436c538407a25eacdd88    ham   \n",
       "emails/ham/01867.bef318a5c37fc91ac6973482f70e50ce    ham   \n",
       "emails/ham/02445.c8fd8c92ab5a91bbf5e94e5277a47863    ham   \n",
       "emails/ham/00290.98400fc8bb102f11e201c037a613cf85    ham   \n",
       "emails/ham/02236.46b510d2f030ddaa7bcc52ef26535bae    ham   \n",
       "emails/ham/02036.ab9f23457f950a124c5b78449cc610c7    ham   \n",
       "emails/ham/01795.81e9f47a31cf1179ec98bf927e26e9de    ham   \n",
       "emails/ham/00298.8b7d79e9cff4860a08188dd3d0c4ceb9    ham   \n",
       "emails/ham/02109.c30c0a19444ebb469f7985e56cd2c3e0    ham   \n",
       "...                                                  ...   \n",
       "emails/ham/02001.2c618fdfdfa2ea01d0a5b6dc936942fa    ham   \n",
       "emails/ham/00894.5b21597d342d44631ebc33acf460883c    ham   \n",
       "emails/ham/00599.94c013ab7037d45045aafbac3389bef0    ham   \n",
       "emails/spam/00217.43b4ef3d9c56cf42be9c37b546a19e78  spam   \n",
       "emails/ham/02064.8479a2ccea9f9f503098cd53601ca0c2    ham   \n",
       "emails/ham/02127.ad63b18b0cad3b4fcda7e9027f962053    ham   \n",
       "emails/spam/00350.c2658f17a328efdf045b38ab38db472f  spam   \n",
       "emails/ham/00079.5fa6a133fe202da2627f52bdf31fc6e2    ham   \n",
       "emails/ham/01329.19b80c37a933da3531c62ce091e7447c    ham   \n",
       "emails/ham/02273.261b1d4fc305dcb4e604790d2e2d5bb0    ham   \n",
       "emails/spam/00094.7f704c47988221c18cb6a620409442b8  spam   \n",
       "emails/ham/00843.0c778329d09499853d99746d0f6f2dc1    ham   \n",
       "emails/ham/00095.24caf7db5c45203f312f742f49385618    ham   \n",
       "emails/spam/00426.36b36cbe96efe9001c4d80363ea7ed4e  spam   \n",
       "emails/ham/01433.4392b7c4884f0f218e74a0b86cc5b8c3    ham   \n",
       "emails/ham/01651.7cafcb2d9dcaadd665afabc65c267f36    ham   \n",
       "emails/ham/00098.90c05d1ad65ea3fa796bfa2808f71052    ham   \n",
       "emails/spam/00058.64bb1902c4e561fb3e521a6dbf8625be  spam   \n",
       "emails/ham/00784.372fcb5f8a0507aa4a8fa0de1e76fe79    ham   \n",
       "emails/ham/00367.d44ba629ed6383ee94999179bb6a04e2    ham   \n",
       "emails/ham/00217.e2416507f33a5350042484cc38de4800    ham   \n",
       "emails/ham/00917.b633b615b29b9483b6e3ec54dd6914b9    ham   \n",
       "emails/ham/02240.fe7a1b134c52afd2b9a666ee65e789cb    ham   \n",
       "emails/ham/00716.c0e0c922db8f605b6475839d8fec9985    ham   \n",
       "emails/spam/00261.12b64e557e52daf5fc5a52e47df2f4e3  spam   \n",
       "emails/ham/00317.62e22febb8eeb1d0a49673ddd92b543d    ham   \n",
       "emails/ham/00294.73bcb5b3dfaccc628419d7ecfe69ff1b    ham   \n",
       "emails/ham/00978.a136387f15961a4f0a2c0ca583206199    ham   \n",
       "emails/ham/00128.0e92ec0c8bd8233f7e7873e93df43277    ham   \n",
       "emails/ham/00175.04e562a3e92558eef6aa45dd66a96564    ham   \n",
       "\n",
       "                                                                                              message  \n",
       "emails/ham/02022.5ecf975278edd8b82be5e9afaaf5f4ff   URL: http://www.newsisfree.com/click/-5,830431...  \n",
       "emails/ham/00629.370fec99ddca8da57ef5cb0bf30375e5   Church, AA, same diff?\\n\\n\\n\\n;-).\\n\\n\\n\\nChee...  \n",
       "emails/ham/01419.97da4f8a986b55cbe1f81bb22836ac58   [Skip Montanaro]\\n\\n> Any thought to wrapping ...  \n",
       "emails/spam/00082.0341a767bbaca01fd89b6236ef681257  This message is in MIME format. Since your mai...  \n",
       "emails/ham/00668.c788422df192a179d3a6ddbcb8b8b612   \\n\\n> On Thu, Sep 19, 2002 at 11:11:47AM -0400...  \n",
       "emails/ham/00005.bf27cdeaf0b8c4647ecd61b1d09da613   >  in adding cream to spaghetti carbonara, whi...  \n",
       "emails/spam/00161.ae33257753c9bdaaadc9221347868496  HI,  zzzz@spamassassin.taint.org   today,\\n\\n<...  \n",
       "emails/ham/02433.9cfb47708291604f2c38393706175160   http://www.pressherald.com/news/state/021201mo...  \n",
       "emails/spam/00469.ee3b2f31459cc2ec43ae7cae00d40cf6  Lowest rates available for term life insurance...  \n",
       "emails/ham/02298.501991b65594ba4937fc54a5c23ee1c3   URL: http://boingboing.net/#85528842\\n\\nDate: ...  \n",
       "emails/spam/00466.ecb11c98ec4511b5422b20476d935bd1  Dear Sir, \\n\\nWith due respect and humility I ...  \n",
       "emails/ham/01271.519b987eddc0633ac3a5908c33a1fa2c   Once upon a time, Ville wrote :\\n\\n\\n\\n> > BTW...  \n",
       "emails/ham/00388.18e2a6069150c2c9139f760fda7668ac   --==_Exmh_-763629846P\\n\\nContent-Type: text/pl...  \n",
       "emails/ham/01626.daf72a49b735dc3319a809ec520f2283   Ben Mord wrote:\\n\\n\\n\\n>     -----Original Mes...  \n",
       "emails/ham/00674.6dcadfb64e1a333f826a1c7b5c722f5f   Gary Lawrence Murphy:\\n\\n>OK, but only if you ...  \n",
       "emails/ham/01693.5f6c04f93ace9da3b5f9e0906ba608c2   I'm listed as a developer on SF and have the s...  \n",
       "emails/ham/01935.ee107676efc24029cdbae10a0d2fdcb9   URL: http://www.joelonsoftware.com/news/200209...  \n",
       "emails/ham/01745.46a467858b1369e9513a8a369a67a70b   \\n\\n>>> Tim Peters wrote\\n\\n> We've not only r...  \n",
       "emails/spam/00385.51089b24dee5a89d38ee1b505b470c68  \\n\\n<html>\\n\\n<body bgcolor=\"#FFFFFF\">\\n\\n<TAB...  \n",
       "emails/ham/02049.2ce8f1e1c26f0c95f2e72853dbf11100   URL: http://www.askbjoernhansen.com/archives/2...  \n",
       "emails/ham/01446.2bc1d074ad6e9bc83adf861ccbf0c498   \\n\\n--UHN/qo2QbUvPLonB\\n\\nContent-Type: text/p...  \n",
       "emails/ham/01220.f57815121767436c538407a25eacdd88   Once upon a time, Brian wrote :\\n\\n\\n\\n>     Y...  \n",
       "emails/ham/01867.bef318a5c37fc91ac6973482f70e50ce   URL: http://diveintomark.org/archives/2002/09/...  \n",
       "emails/ham/02445.c8fd8c92ab5a91bbf5e94e5277a47863   I think I understand the feeling.  A few years...  \n",
       "emails/ham/00290.98400fc8bb102f11e201c037a613cf85   Hi.\\n\\n\\n\\nBrian Fahrlander <kilroy@kamakiriad...  \n",
       "emails/ham/02236.46b510d2f030ddaa7bcc52ef26535bae   URL: http://boingboing.net/#85516085\\n\\nDate: ...  \n",
       "emails/ham/02036.ab9f23457f950a124c5b78449cc610c7   URL: http://diveintomark.org/archives/2002/09/...  \n",
       "emails/ham/01795.81e9f47a31cf1179ec98bf927e26e9de   \\n\\nForwarded-by: Flower\\n\\n\\n\\nDid you know t...  \n",
       "emails/ham/00298.8b7d79e9cff4860a08188dd3d0c4ceb9   Lucas Gonze:\\n\\n>Senders should vary the recip...  \n",
       "emails/ham/02109.c30c0a19444ebb469f7985e56cd2c3e0   URL: http://www.newsisfree.com/click/-2,841368...  \n",
       "...                                                                                               ...  \n",
       "emails/ham/02001.2c618fdfdfa2ea01d0a5b6dc936942fa   URL: http://www.newsisfree.com/click/-4,825931...  \n",
       "emails/ham/00894.5b21597d342d44631ebc33acf460883c   \\n\\n\\n\\nHijacker High (8/30) \\n\\nDalal Mughrab...  \n",
       "emails/ham/00599.94c013ab7037d45045aafbac3389bef0   Chuck Murcko wrote:\\n\\n> > The usual crud.  Wh...  \n",
       "emails/spam/00217.43b4ef3d9c56cf42be9c37b546a19e78  <html><xbody>\\n\\n<hr width = \"100%\">\\n\\n<cente...  \n",
       "emails/ham/02064.8479a2ccea9f9f503098cd53601ca0c2   URL: http://www.newsisfree.com/click/-1,838114...  \n",
       "emails/ham/02127.ad63b18b0cad3b4fcda7e9027f962053   URL: http://www.askbjoernhansen.com/archives/2...  \n",
       "emails/spam/00350.c2658f17a328efdf045b38ab38db472f  <HTML>\\n\\n<HEAD>\\n\\n</HEAD>\\n\\n<BODY>\\n\\n<FONT...  \n",
       "emails/ham/00079.5fa6a133fe202da2627f52bdf31fc6e2   Reza B'Far (eBuilt) wrote:\\n\\n> problems.... W...  \n",
       "emails/ham/01329.19b80c37a933da3531c62ce091e7447c   Hi, does anyone have a collection of real-worl...  \n",
       "emails/ham/02273.261b1d4fc305dcb4e604790d2e2d5bb0   URL: http://www.newsisfree.com/click/-6,857278...  \n",
       "emails/spam/00094.7f704c47988221c18cb6a620409442b8  <html>\\n\\n<body>\\n\\n<p>Do you like Sexy Animal...  \n",
       "emails/ham/00843.0c778329d09499853d99746d0f6f2dc1   \\n\\nI think what you're looking at with the du...  \n",
       "emails/ham/00095.24caf7db5c45203f312f742f49385618   Justin MacCarthy wrote:\\n\\n> I think I'll ask ...  \n",
       "emails/spam/00426.36b36cbe96efe9001c4d80363ea7ed4e  Opportunity is knocking. Why?\\n\\n\\n\\nBecause m...  \n",
       "emails/ham/01433.4392b7c4884f0f218e74a0b86cc5b8c3   \\n\\n\"zeek\" said:\\n\\n\\n\\n> This was thoroughly ...  \n",
       "emails/ham/01651.7cafcb2d9dcaadd665afabc65c267f36   \\n\\n    >> Ultimately I'd like to see tight in...  \n",
       "emails/ham/00098.90c05d1ad65ea3fa796bfa2808f71052            |::::::::::::::::::::::::::::::::::::...  \n",
       "emails/spam/00058.64bb1902c4e561fb3e521a6dbf8625be  <html>\\n\\n<head>\\n\\n</head>\\n\\n<body>\\n\\n\\n\\n<...  \n",
       "emails/ham/00784.372fcb5f8a0507aa4a8fa0de1e76fe79   On Wed, 25 Sep 2002, Gordon Mohr wrote:\\n\\n> I...  \n",
       "emails/ham/00367.d44ba629ed6383ee94999179bb6a04e2   \\n\\nEirikur Hallgrimsson said:\\n\\n\\n\\n> Let me...  \n",
       "emails/ham/00217.e2416507f33a5350042484cc38de4800   Paul Jakma wrote:\\n\\n> On Tue, 27 Aug 2002, Da...  \n",
       "emails/ham/00917.b633b615b29b9483b6e3ec54dd6914b9   \\n\\nPolitical mail (the snail kind) doesn't bo...  \n",
       "emails/ham/02240.fe7a1b134c52afd2b9a666ee65e789cb   URL: http://www.newsisfree.com/click/215,11,21...  \n",
       "emails/ham/00716.c0e0c922db8f605b6475839d8fec9985   http://www.nytimes.com/2002/09/23/opinion/23HE...  \n",
       "emails/spam/00261.12b64e557e52daf5fc5a52e47df2f4e3  \\n\\nThis is a multi-part message in MIME forma...  \n",
       "emails/ham/00317.62e22febb8eeb1d0a49673ddd92b543d   I think that this and other articles confuse S...  \n",
       "emails/ham/00294.73bcb5b3dfaccc628419d7ecfe69ff1b   http://news.bbc.co.uk/1/hi/uk/2310209.stm\\n\\n\\...  \n",
       "emails/ham/00978.a136387f15961a4f0a2c0ca583206199   > I don't understand.  How does sorting one fo...  \n",
       "emails/ham/00128.0e92ec0c8bd8233f7e7873e93df43277   what takes time and money: noting the amounts ...  \n",
       "emails/ham/00175.04e562a3e92558eef6aa45dd66a96564   > An illusionist has emerged after 24 hours un...  \n",
       "\n",
       "[3000 rows x 2 columns]>"
      ]
     },
     "execution_count": 31,
     "metadata": {},
     "output_type": "execute_result"
    }
   ],
   "source": [
    "data.count"
   ]
  },
  {
   "cell_type": "code",
   "execution_count": 32,
   "metadata": {
    "collapsed": false,
    "deletable": true,
    "editable": true
   },
   "outputs": [
    {
     "data": {
      "text/html": [
       "<div>\n",
       "<style>\n",
       "    .dataframe thead tr:only-child th {\n",
       "        text-align: right;\n",
       "    }\n",
       "\n",
       "    .dataframe thead th {\n",
       "        text-align: left;\n",
       "    }\n",
       "\n",
       "    .dataframe tbody tr th {\n",
       "        vertical-align: top;\n",
       "    }\n",
       "</style>\n",
       "<table border=\"1\" class=\"dataframe\">\n",
       "  <thead>\n",
       "    <tr style=\"text-align: right;\">\n",
       "      <th></th>\n",
       "      <th>class</th>\n",
       "      <th>message</th>\n",
       "    </tr>\n",
       "  </thead>\n",
       "  <tbody>\n",
       "    <tr>\n",
       "      <th>emails/ham/02022.5ecf975278edd8b82be5e9afaaf5f4ff</th>\n",
       "      <td>ham</td>\n",
       "      <td>URL: http://www.newsisfree.com/click/-5,830431...</td>\n",
       "    </tr>\n",
       "    <tr>\n",
       "      <th>emails/ham/00629.370fec99ddca8da57ef5cb0bf30375e5</th>\n",
       "      <td>ham</td>\n",
       "      <td>Church, AA, same diff?\\n\\n\\n\\n;-).\\n\\n\\n\\nChee...</td>\n",
       "    </tr>\n",
       "    <tr>\n",
       "      <th>emails/ham/01419.97da4f8a986b55cbe1f81bb22836ac58</th>\n",
       "      <td>ham</td>\n",
       "      <td>[Skip Montanaro]\\n\\n&gt; Any thought to wrapping ...</td>\n",
       "    </tr>\n",
       "    <tr>\n",
       "      <th>emails/spam/00082.0341a767bbaca01fd89b6236ef681257</th>\n",
       "      <td>spam</td>\n",
       "      <td>This message is in MIME format. Since your mai...</td>\n",
       "    </tr>\n",
       "    <tr>\n",
       "      <th>emails/ham/00668.c788422df192a179d3a6ddbcb8b8b612</th>\n",
       "      <td>ham</td>\n",
       "      <td>\\n\\n&gt; On Thu, Sep 19, 2002 at 11:11:47AM -0400...</td>\n",
       "    </tr>\n",
       "  </tbody>\n",
       "</table>\n",
       "</div>"
      ],
      "text/plain": [
       "                                                   class  \\\n",
       "emails/ham/02022.5ecf975278edd8b82be5e9afaaf5f4ff    ham   \n",
       "emails/ham/00629.370fec99ddca8da57ef5cb0bf30375e5    ham   \n",
       "emails/ham/01419.97da4f8a986b55cbe1f81bb22836ac58    ham   \n",
       "emails/spam/00082.0341a767bbaca01fd89b6236ef681257  spam   \n",
       "emails/ham/00668.c788422df192a179d3a6ddbcb8b8b612    ham   \n",
       "\n",
       "                                                                                              message  \n",
       "emails/ham/02022.5ecf975278edd8b82be5e9afaaf5f4ff   URL: http://www.newsisfree.com/click/-5,830431...  \n",
       "emails/ham/00629.370fec99ddca8da57ef5cb0bf30375e5   Church, AA, same diff?\\n\\n\\n\\n;-).\\n\\n\\n\\nChee...  \n",
       "emails/ham/01419.97da4f8a986b55cbe1f81bb22836ac58   [Skip Montanaro]\\n\\n> Any thought to wrapping ...  \n",
       "emails/spam/00082.0341a767bbaca01fd89b6236ef681257  This message is in MIME format. Since your mai...  \n",
       "emails/ham/00668.c788422df192a179d3a6ddbcb8b8b612   \\n\\n> On Thu, Sep 19, 2002 at 11:11:47AM -0400...  "
      ]
     },
     "execution_count": 32,
     "metadata": {},
     "output_type": "execute_result"
    }
   ],
   "source": [
    "data.head()"
   ]
  },
  {
   "cell_type": "markdown",
   "metadata": {
    "deletable": true,
    "editable": true
   },
   "source": [
    "Now we will use a CountVectorizer to split up each message into its list of words, and throw that into a MultinomialNB classifier. Call fit() and we've got a trained spam filter ready to go! It's just that easy."
   ]
  },
  {
   "cell_type": "code",
   "execution_count": 33,
   "metadata": {
    "collapsed": false,
    "deletable": true,
    "editable": true
   },
   "outputs": [
    {
     "data": {
      "text/plain": [
       "MultinomialNB(alpha=1.0, class_prior=None, fit_prior=True)"
      ]
     },
     "execution_count": 33,
     "metadata": {},
     "output_type": "execute_result"
    }
   ],
   "source": [
    "vectorizer = CountVectorizer()\n",
    "counts = vectorizer.fit_transform(data['message'][:2000].values)\n",
    "\n",
    "classifier = MultinomialNB()\n",
    "targets = data['class'][:2000].values\n",
    "classifier.fit(counts, targets)"
   ]
  },
  {
   "cell_type": "markdown",
   "metadata": {
    "deletable": true,
    "editable": true
   },
   "source": [
    "Let's try it out:"
   ]
  },
  {
   "cell_type": "code",
   "execution_count": 34,
   "metadata": {
    "collapsed": false,
    "deletable": true,
    "editable": true
   },
   "outputs": [
    {
     "data": {
      "text/plain": [
       "array(['ham', 'ham', 'ham', 'ham', 'ham', 'ham', 'ham', 'ham', 'ham',\n",
       "       'ham', 'ham', 'ham', 'ham', 'ham', 'ham', 'spam', 'ham', 'spam',\n",
       "       'ham', 'spam', 'ham', 'ham', 'ham', 'ham', 'ham', 'ham', 'ham',\n",
       "       'ham', 'spam', 'ham', 'ham', 'ham', 'spam', 'ham', 'ham', 'ham',\n",
       "       'ham', 'ham', 'ham', 'ham', 'ham', 'ham', 'ham', 'ham', 'ham',\n",
       "       'ham', 'ham', 'ham', 'ham', 'ham', 'ham', 'ham', 'ham', 'ham',\n",
       "       'ham', 'spam', 'ham', 'ham', 'ham', 'ham', 'ham', 'ham', 'ham',\n",
       "       'ham', 'ham', 'ham', 'ham', 'ham', 'ham', 'ham', 'ham', 'ham',\n",
       "       'ham', 'spam', 'ham', 'ham', 'ham', 'ham', 'ham', 'ham', 'spam',\n",
       "       'ham', 'ham', 'ham', 'spam', 'ham', 'spam', 'ham', 'ham', 'ham',\n",
       "       'ham', 'ham', 'ham', 'ham', 'ham', 'ham', 'ham', 'ham', 'ham',\n",
       "       'ham', 'ham', 'ham', 'ham', 'spam', 'ham', 'ham', 'ham', 'ham',\n",
       "       'ham', 'ham', 'ham', 'ham', 'ham', 'ham', 'ham', 'ham', 'ham',\n",
       "       'ham', 'spam', 'ham', 'ham', 'ham', 'ham', 'ham', 'ham', 'ham',\n",
       "       'ham', 'ham', 'ham', 'ham', 'spam', 'ham', 'ham', 'ham', 'ham',\n",
       "       'spam', 'ham', 'ham', 'ham', 'ham', 'ham', 'ham', 'ham', 'ham',\n",
       "       'ham', 'ham', 'ham', 'ham', 'spam', 'ham', 'spam', 'ham', 'spam',\n",
       "       'ham', 'ham', 'ham', 'ham', 'ham', 'ham', 'ham', 'ham', 'ham',\n",
       "       'ham', 'ham', 'ham', 'ham', 'ham', 'ham', 'ham', 'ham', 'spam',\n",
       "       'ham', 'spam', 'ham', 'ham', 'ham', 'ham', 'ham', 'ham', 'ham',\n",
       "       'ham', 'ham', 'ham', 'ham', 'ham', 'ham', 'ham', 'spam', 'spam',\n",
       "       'ham', 'ham', 'ham', 'spam', 'ham', 'ham', 'spam', 'ham', 'ham',\n",
       "       'ham', 'spam', 'ham', 'ham', 'ham', 'spam', 'ham', 'ham', 'ham',\n",
       "       'ham', 'ham', 'ham', 'ham', 'spam', 'ham', 'ham', 'ham', 'ham',\n",
       "       'ham', 'ham', 'ham', 'ham', 'ham', 'ham', 'ham', 'ham', 'ham',\n",
       "       'ham', 'ham', 'ham', 'ham', 'ham', 'ham', 'ham', 'ham', 'spam',\n",
       "       'ham', 'ham', 'ham', 'spam', 'ham', 'ham', 'ham', 'ham', 'ham',\n",
       "       'ham', 'ham', 'ham', 'spam', 'spam', 'ham', 'ham', 'ham', 'ham',\n",
       "       'ham', 'ham', 'ham', 'ham', 'spam', 'ham', 'ham', 'ham', 'ham',\n",
       "       'ham', 'ham', 'spam', 'ham', 'ham', 'ham', 'ham', 'ham', 'ham',\n",
       "       'ham', 'ham', 'ham', 'ham', 'ham', 'ham', 'ham', 'ham', 'ham',\n",
       "       'ham', 'ham', 'ham', 'ham', 'ham', 'ham', 'ham', 'ham', 'ham',\n",
       "       'ham', 'ham', 'ham', 'ham', 'spam', 'ham', 'ham', 'ham', 'ham',\n",
       "       'ham', 'ham', 'ham', 'ham', 'ham', 'ham', 'ham', 'ham', 'ham',\n",
       "       'ham', 'spam', 'ham', 'ham', 'ham', 'ham', 'ham', 'ham', 'ham',\n",
       "       'ham', 'ham', 'spam', 'ham', 'ham', 'ham', 'ham', 'ham', 'spam',\n",
       "       'ham', 'ham', 'ham', 'spam', 'ham', 'ham', 'ham', 'ham', 'ham',\n",
       "       'spam', 'ham', 'spam', 'ham', 'ham', 'ham', 'ham', 'ham', 'ham',\n",
       "       'ham', 'ham', 'ham', 'ham', 'ham', 'spam', 'ham', 'ham', 'spam',\n",
       "       'ham', 'spam', 'ham', 'ham', 'ham', 'ham', 'ham', 'ham', 'ham',\n",
       "       'ham', 'ham', 'ham', 'ham', 'ham', 'spam', 'spam', 'spam', 'ham',\n",
       "       'ham', 'ham', 'ham', 'ham', 'ham', 'ham', 'ham', 'ham', 'spam',\n",
       "       'ham', 'ham', 'ham', 'ham', 'ham', 'ham', 'ham', 'ham', 'ham',\n",
       "       'ham', 'ham', 'ham', 'ham', 'spam', 'ham', 'ham', 'spam', 'ham',\n",
       "       'ham', 'ham', 'ham', 'ham', 'ham', 'ham', 'ham', 'ham', 'ham',\n",
       "       'ham', 'ham', 'ham', 'ham', 'ham', 'ham', 'ham', 'spam', 'ham',\n",
       "       'ham', 'ham', 'ham', 'ham', 'ham', 'ham', 'ham', 'ham', 'ham',\n",
       "       'ham', 'ham', 'ham', 'ham', 'ham', 'spam', 'ham', 'ham', 'ham',\n",
       "       'ham', 'ham', 'ham', 'ham', 'ham', 'spam', 'ham', 'spam', 'ham',\n",
       "       'ham', 'ham', 'ham', 'spam', 'ham', 'spam', 'ham', 'ham', 'ham',\n",
       "       'ham', 'ham', 'ham', 'ham', 'ham', 'spam', 'ham', 'ham', 'ham',\n",
       "       'spam', 'ham', 'ham', 'spam', 'ham', 'ham', 'ham', 'ham', 'ham',\n",
       "       'ham', 'ham', 'ham', 'ham', 'ham', 'ham', 'ham', 'ham', 'ham',\n",
       "       'ham', 'ham', 'ham', 'ham', 'ham', 'ham', 'ham', 'ham', 'ham',\n",
       "       'ham', 'ham', 'ham', 'ham', 'ham', 'ham', 'ham', 'ham', 'ham',\n",
       "       'ham', 'ham', 'ham', 'ham', 'ham', 'spam', 'ham', 'ham', 'spam',\n",
       "       'ham', 'ham', 'ham', 'ham', 'ham', 'ham', 'ham', 'ham', 'ham',\n",
       "       'ham', 'spam', 'ham', 'ham', 'ham', 'ham', 'ham', 'ham', 'ham',\n",
       "       'ham', 'ham', 'ham', 'ham', 'ham', 'ham', 'ham', 'ham', 'ham',\n",
       "       'ham', 'ham', 'ham', 'ham', 'ham', 'ham', 'ham', 'ham', 'ham',\n",
       "       'spam', 'ham', 'ham', 'ham', 'ham', 'ham', 'ham', 'ham', 'ham',\n",
       "       'ham', 'ham', 'ham', 'ham', 'ham', 'ham', 'ham', 'ham', 'ham',\n",
       "       'spam', 'ham', 'ham', 'ham', 'ham', 'ham', 'spam', 'ham', 'ham',\n",
       "       'ham', 'ham', 'ham', 'ham', 'ham', 'ham', 'ham', 'ham', 'ham',\n",
       "       'ham', 'ham', 'ham', 'ham', 'ham', 'ham', 'ham', 'ham', 'ham',\n",
       "       'ham', 'ham', 'ham', 'ham', 'ham', 'ham', 'ham', 'ham', 'ham',\n",
       "       'ham', 'ham', 'ham', 'ham', 'spam', 'spam', 'spam', 'ham', 'spam',\n",
       "       'ham', 'ham', 'ham', 'ham', 'ham', 'ham', 'ham', 'ham', 'ham',\n",
       "       'spam', 'ham', 'ham', 'ham', 'ham', 'ham', 'ham', 'ham', 'ham',\n",
       "       'ham', 'ham', 'spam', 'ham', 'ham', 'ham', 'ham', 'ham', 'ham',\n",
       "       'ham', 'spam', 'ham', 'spam', 'ham', 'ham', 'ham', 'ham', 'ham',\n",
       "       'ham', 'ham', 'ham', 'ham', 'ham', 'ham', 'ham', 'ham', 'ham',\n",
       "       'ham', 'ham', 'spam', 'ham', 'ham', 'ham', 'ham', 'ham', 'ham',\n",
       "       'ham', 'ham', 'ham', 'ham', 'ham', 'ham', 'ham', 'ham', 'ham',\n",
       "       'ham', 'spam', 'ham', 'ham', 'spam', 'ham', 'ham', 'ham', 'ham',\n",
       "       'ham', 'ham', 'ham', 'ham', 'ham', 'ham', 'ham', 'ham', 'ham',\n",
       "       'ham', 'ham', 'ham', 'ham', 'ham', 'ham', 'ham', 'spam', 'ham',\n",
       "       'ham', 'ham', 'ham', 'ham', 'ham', 'ham', 'ham', 'ham', 'ham',\n",
       "       'ham', 'ham', 'ham', 'ham', 'ham', 'ham', 'ham', 'ham', 'ham',\n",
       "       'ham', 'ham', 'ham', 'ham', 'ham', 'ham', 'ham', 'ham', 'ham',\n",
       "       'ham', 'spam', 'spam', 'ham', 'ham', 'ham', 'ham', 'ham', 'ham',\n",
       "       'ham', 'ham', 'ham', 'ham', 'ham', 'ham', 'ham', 'ham', 'ham',\n",
       "       'ham', 'ham', 'ham', 'ham', 'ham', 'ham', 'ham', 'ham', 'ham',\n",
       "       'ham', 'ham', 'ham', 'ham', 'ham', 'ham', 'ham', 'ham', 'ham',\n",
       "       'ham', 'ham', 'ham', 'ham', 'ham', 'ham', 'ham', 'ham', 'ham',\n",
       "       'spam', 'ham', 'ham', 'ham', 'ham', 'ham', 'ham', 'ham', 'ham',\n",
       "       'ham', 'ham', 'ham', 'ham', 'spam', 'ham', 'ham', 'ham', 'ham',\n",
       "       'ham', 'spam', 'ham', 'ham', 'ham', 'ham', 'ham', 'ham', 'ham',\n",
       "       'ham', 'ham', 'spam', 'ham', 'ham', 'ham', 'ham', 'ham', 'ham',\n",
       "       'ham', 'ham', 'ham', 'ham', 'ham', 'ham', 'ham', 'ham', 'ham',\n",
       "       'ham', 'ham', 'ham', 'ham', 'ham', 'spam', 'ham', 'ham', 'ham',\n",
       "       'ham', 'ham', 'ham', 'ham', 'ham', 'ham', 'ham', 'ham', 'ham',\n",
       "       'ham', 'ham', 'ham', 'ham', 'spam', 'ham', 'spam', 'ham', 'spam',\n",
       "       'ham', 'ham', 'ham', 'ham', 'ham', 'spam', 'ham', 'ham', 'spam',\n",
       "       'ham', 'ham', 'ham', 'ham', 'ham', 'ham', 'ham', 'ham', 'ham',\n",
       "       'spam', 'ham', 'spam', 'ham', 'ham', 'ham', 'ham', 'ham', 'ham',\n",
       "       'ham', 'ham', 'ham', 'ham', 'ham', 'ham', 'ham', 'ham', 'ham',\n",
       "       'ham', 'ham', 'ham', 'ham', 'ham', 'ham', 'ham', 'ham', 'ham',\n",
       "       'ham', 'ham', 'ham', 'ham', 'spam', 'ham', 'spam', 'ham', 'ham',\n",
       "       'ham', 'ham', 'ham', 'ham', 'ham', 'ham', 'ham', 'ham', 'spam',\n",
       "       'ham', 'spam', 'ham', 'ham', 'ham', 'ham', 'ham', 'ham', 'ham',\n",
       "       'spam', 'ham', 'ham', 'ham', 'ham', 'ham', 'ham', 'spam', 'ham',\n",
       "       'ham', 'ham', 'ham', 'ham', 'ham', 'ham', 'ham', 'ham', 'ham',\n",
       "       'ham', 'ham', 'spam', 'ham', 'ham', 'ham', 'ham', 'ham', 'ham',\n",
       "       'spam', 'ham', 'spam', 'spam', 'spam', 'spam', 'ham', 'ham', 'ham',\n",
       "       'ham', 'ham', 'ham', 'ham', 'ham', 'ham', 'ham', 'ham', 'ham',\n",
       "       'ham', 'ham', 'ham', 'ham', 'ham', 'ham', 'ham', 'ham', 'spam',\n",
       "       'ham', 'ham', 'ham', 'ham', 'spam', 'ham', 'ham', 'ham', 'ham',\n",
       "       'ham', 'spam', 'ham', 'ham', 'spam', 'ham', 'ham', 'ham', 'spam',\n",
       "       'ham', 'ham', 'ham', 'ham', 'ham', 'ham', 'spam', 'ham', 'ham',\n",
       "       'ham', 'ham', 'ham', 'ham', 'spam', 'ham', 'ham', 'ham', 'ham',\n",
       "       'ham'],\n",
       "      dtype='<U4')"
      ]
     },
     "execution_count": 34,
     "metadata": {},
     "output_type": "execute_result"
    }
   ],
   "source": [
    "# examples = ['Your Apple ID Invoice is here!', \"Hi Bob, how about a game of golf tomorrow?\"]\n",
    "examples = data['message'][2000:].values\n",
    "example_counts = vectorizer.transform(examples)\n",
    "predictions = classifier.predict(example_counts)\n",
    "real = data['class'][2000:].values\n",
    "predictions"
   ]
  },
  {
   "cell_type": "code",
   "execution_count": 35,
   "metadata": {
    "collapsed": false
   },
   "outputs": [
    {
     "data": {
      "text/plain": [
       "0.953"
      ]
     },
     "execution_count": 35,
     "metadata": {},
     "output_type": "execute_result"
    }
   ],
   "source": [
    "count = 0\n",
    "right = 0\n",
    "for pred in predictions:\n",
    "    r = real[count]\n",
    "    if(r == pred):\n",
    "        right = right + 1\n",
    "    count = count + 1\n",
    "\n",
    "accuracy = right / 1000\n",
    "accuracy"
   ]
  },
  {
   "cell_type": "markdown",
   "metadata": {
    "deletable": true,
    "editable": true
   },
   "source": [
    "## Activity"
   ]
  },
  {
   "cell_type": "markdown",
   "metadata": {
    "deletable": true,
    "editable": true
   },
   "source": [
    "Our data set is small, so our spam classifier isn't actually very good. Try running some different test emails through it and see if you get the results you expect.\n",
    "\n",
    "If you really want to challenge yourself, try applying train/test to this spam classifier - see how well it can predict some subset of the ham and spam emails."
   ]
  },
  {
   "cell_type": "code",
   "execution_count": null,
   "metadata": {
    "collapsed": false,
    "deletable": true,
    "editable": true
   },
   "outputs": [],
   "source": []
  }
 ],
 "metadata": {
  "kernelspec": {
   "display_name": "Python 3",
   "language": "python",
   "name": "python3"
  },
  "language_info": {
   "codemirror_mode": {
    "name": "ipython",
    "version": 3
   },
   "file_extension": ".py",
   "mimetype": "text/x-python",
   "name": "python",
   "nbconvert_exporter": "python",
   "pygments_lexer": "ipython3",
   "version": "3.5.2"
  }
 },
 "nbformat": 4,
 "nbformat_minor": 0
}
